{
 "cells": [
  {
   "cell_type": "code",
   "execution_count": 10,
   "metadata": {},
   "outputs": [],
   "source": [
    "from sklearn.ensemble import RandomForestRegressor\n",
    "from sklearn.model_selection import train_test_split\n",
    "from sklearn.metrics import mean_absolute_error, mean_squared_error, r2_score\n",
    "from sklearn.linear_model import Ridge\n",
    "from sklearn.ensemble import StackingRegressor\n",
    "from sklearn.neighbors import KNeighborsRegressor\n",
    "from sklearn.ensemble import ExtraTreesRegressor\n",
    "from xgboost import XGBRegressor\n",
    "import pandas as pd\n",
    "import numpy as np\n"
   ]
  },
  {
   "cell_type": "code",
   "execution_count": 11,
   "metadata": {},
   "outputs": [
    {
     "data": {
      "text/html": [
       "<div>\n",
       "<style scoped>\n",
       "    .dataframe tbody tr th:only-of-type {\n",
       "        vertical-align: middle;\n",
       "    }\n",
       "\n",
       "    .dataframe tbody tr th {\n",
       "        vertical-align: top;\n",
       "    }\n",
       "\n",
       "    .dataframe thead th {\n",
       "        text-align: right;\n",
       "    }\n",
       "</style>\n",
       "<table border=\"1\" class=\"dataframe\">\n",
       "  <thead>\n",
       "    <tr style=\"text-align: right;\">\n",
       "      <th></th>\n",
       "      <th>fixed acidity</th>\n",
       "      <th>volatile acidity</th>\n",
       "      <th>citric acid</th>\n",
       "      <th>residual sugar</th>\n",
       "      <th>chlorides</th>\n",
       "      <th>free sulfur dioxide</th>\n",
       "      <th>total sulfur dioxide</th>\n",
       "      <th>density</th>\n",
       "      <th>pH</th>\n",
       "      <th>sulphates</th>\n",
       "      <th>alcohol</th>\n",
       "      <th>quality</th>\n",
       "    </tr>\n",
       "  </thead>\n",
       "  <tbody>\n",
       "    <tr>\n",
       "      <th>0</th>\n",
       "      <td>7.4</td>\n",
       "      <td>0.70</td>\n",
       "      <td>0.00</td>\n",
       "      <td>1.9</td>\n",
       "      <td>0.076</td>\n",
       "      <td>11.0</td>\n",
       "      <td>34.0</td>\n",
       "      <td>0.9978</td>\n",
       "      <td>3.51</td>\n",
       "      <td>0.56</td>\n",
       "      <td>9.4</td>\n",
       "      <td>5</td>\n",
       "    </tr>\n",
       "    <tr>\n",
       "      <th>1</th>\n",
       "      <td>7.8</td>\n",
       "      <td>0.88</td>\n",
       "      <td>0.00</td>\n",
       "      <td>2.6</td>\n",
       "      <td>0.098</td>\n",
       "      <td>25.0</td>\n",
       "      <td>67.0</td>\n",
       "      <td>0.9968</td>\n",
       "      <td>3.20</td>\n",
       "      <td>0.68</td>\n",
       "      <td>9.8</td>\n",
       "      <td>5</td>\n",
       "    </tr>\n",
       "    <tr>\n",
       "      <th>2</th>\n",
       "      <td>7.8</td>\n",
       "      <td>0.76</td>\n",
       "      <td>0.04</td>\n",
       "      <td>2.3</td>\n",
       "      <td>0.092</td>\n",
       "      <td>15.0</td>\n",
       "      <td>54.0</td>\n",
       "      <td>0.9970</td>\n",
       "      <td>3.26</td>\n",
       "      <td>0.65</td>\n",
       "      <td>9.8</td>\n",
       "      <td>5</td>\n",
       "    </tr>\n",
       "    <tr>\n",
       "      <th>3</th>\n",
       "      <td>11.2</td>\n",
       "      <td>0.28</td>\n",
       "      <td>0.56</td>\n",
       "      <td>1.9</td>\n",
       "      <td>0.075</td>\n",
       "      <td>17.0</td>\n",
       "      <td>60.0</td>\n",
       "      <td>0.9980</td>\n",
       "      <td>3.16</td>\n",
       "      <td>0.58</td>\n",
       "      <td>9.8</td>\n",
       "      <td>6</td>\n",
       "    </tr>\n",
       "    <tr>\n",
       "      <th>4</th>\n",
       "      <td>7.4</td>\n",
       "      <td>0.70</td>\n",
       "      <td>0.00</td>\n",
       "      <td>1.9</td>\n",
       "      <td>0.076</td>\n",
       "      <td>11.0</td>\n",
       "      <td>34.0</td>\n",
       "      <td>0.9978</td>\n",
       "      <td>3.51</td>\n",
       "      <td>0.56</td>\n",
       "      <td>9.4</td>\n",
       "      <td>5</td>\n",
       "    </tr>\n",
       "  </tbody>\n",
       "</table>\n",
       "</div>"
      ],
      "text/plain": [
       "   fixed acidity  volatile acidity  citric acid  residual sugar  chlorides  \\\n",
       "0            7.4              0.70         0.00             1.9      0.076   \n",
       "1            7.8              0.88         0.00             2.6      0.098   \n",
       "2            7.8              0.76         0.04             2.3      0.092   \n",
       "3           11.2              0.28         0.56             1.9      0.075   \n",
       "4            7.4              0.70         0.00             1.9      0.076   \n",
       "\n",
       "   free sulfur dioxide  total sulfur dioxide  density    pH  sulphates  \\\n",
       "0                 11.0                  34.0   0.9978  3.51       0.56   \n",
       "1                 25.0                  67.0   0.9968  3.20       0.68   \n",
       "2                 15.0                  54.0   0.9970  3.26       0.65   \n",
       "3                 17.0                  60.0   0.9980  3.16       0.58   \n",
       "4                 11.0                  34.0   0.9978  3.51       0.56   \n",
       "\n",
       "   alcohol  quality  \n",
       "0      9.4        5  \n",
       "1      9.8        5  \n",
       "2      9.8        5  \n",
       "3      9.8        6  \n",
       "4      9.4        5  "
      ]
     },
     "execution_count": 11,
     "metadata": {},
     "output_type": "execute_result"
    }
   ],
   "source": [
    "file_path = 'winequality-red.csv'\n",
    "dataset = pd.read_csv(file_path, delimiter=';')\n",
    "\n",
    "dataset.head()\n"
   ]
  },
  {
   "cell_type": "code",
   "execution_count": 12,
   "metadata": {},
   "outputs": [
    {
     "data": {
      "text/plain": [
       "fixed acidity           0\n",
       "volatile acidity        0\n",
       "citric acid             0\n",
       "residual sugar          0\n",
       "chlorides               0\n",
       "free sulfur dioxide     0\n",
       "total sulfur dioxide    0\n",
       "density                 0\n",
       "pH                      0\n",
       "sulphates               0\n",
       "alcohol                 0\n",
       "quality                 0\n",
       "dtype: int64"
      ]
     },
     "execution_count": 12,
     "metadata": {},
     "output_type": "execute_result"
    }
   ],
   "source": [
    "missing_values = dataset.isnull().sum()\n",
    "missing_values"
   ]
  },
  {
   "cell_type": "code",
   "execution_count": 13,
   "metadata": {},
   "outputs": [
    {
     "data": {
      "text/plain": [
       "fixed acidity           float64\n",
       "volatile acidity        float64\n",
       "citric acid             float64\n",
       "residual sugar          float64\n",
       "chlorides               float64\n",
       "free sulfur dioxide     float64\n",
       "total sulfur dioxide    float64\n",
       "density                 float64\n",
       "pH                      float64\n",
       "sulphates               float64\n",
       "alcohol                 float64\n",
       "quality                   int64\n",
       "dtype: object"
      ]
     },
     "execution_count": 13,
     "metadata": {},
     "output_type": "execute_result"
    }
   ],
   "source": [
    "data_types = dataset.dtypes\n",
    "data_types"
   ]
  },
  {
   "cell_type": "code",
   "execution_count": 14,
   "metadata": {},
   "outputs": [
    {
     "data": {
      "text/plain": [
       "quality\n",
       "3     10\n",
       "4     53\n",
       "5    681\n",
       "6    638\n",
       "7    199\n",
       "8     18\n",
       "Name: count, dtype: int64"
      ]
     },
     "execution_count": 14,
     "metadata": {},
     "output_type": "execute_result"
    }
   ],
   "source": [
    "quality_distribution = dataset['quality'].value_counts().sort_index()\n",
    "quality_distribution"
   ]
  },
  {
   "cell_type": "code",
   "execution_count": 15,
   "metadata": {},
   "outputs": [
    {
     "data": {
      "text/plain": [
       "quality\n",
       "5    681\n",
       "6    681\n",
       "7    681\n",
       "4    681\n",
       "8    681\n",
       "3    681\n",
       "Name: count, dtype: int64"
      ]
     },
     "execution_count": 15,
     "metadata": {},
     "output_type": "execute_result"
    }
   ],
   "source": [
    "from imblearn.over_sampling import SMOTE\n",
    "from sklearn.model_selection import train_test_split\n",
    "\n",
    "X = dataset.drop('quality', axis=1)\n",
    "y = dataset['quality']\n",
    "\n",
    "X_resampled, y_resampled = SMOTE(random_state=42).fit_resample(X, y)\n",
    "\n",
    "balanced_dataset = pd.concat([pd.DataFrame(X_resampled, columns=X.columns), pd.DataFrame(y_resampled, columns=['quality'])], axis=1)\n",
    "balanced_dataset['quality'].value_counts()"
   ]
  },
  {
   "cell_type": "code",
   "execution_count": 16,
   "metadata": {},
   "outputs": [
    {
     "data": {
      "text/html": [
       "<div>\n",
       "<style scoped>\n",
       "    .dataframe tbody tr th:only-of-type {\n",
       "        vertical-align: middle;\n",
       "    }\n",
       "\n",
       "    .dataframe tbody tr th {\n",
       "        vertical-align: top;\n",
       "    }\n",
       "\n",
       "    .dataframe thead th {\n",
       "        text-align: right;\n",
       "    }\n",
       "</style>\n",
       "<table border=\"1\" class=\"dataframe\">\n",
       "  <thead>\n",
       "    <tr style=\"text-align: right;\">\n",
       "      <th></th>\n",
       "      <th>fixed acidity</th>\n",
       "      <th>volatile acidity</th>\n",
       "      <th>citric acid</th>\n",
       "      <th>residual sugar</th>\n",
       "      <th>chlorides</th>\n",
       "      <th>free sulfur dioxide</th>\n",
       "      <th>total sulfur dioxide</th>\n",
       "      <th>density</th>\n",
       "      <th>pH</th>\n",
       "      <th>sulphates</th>\n",
       "      <th>alcohol</th>\n",
       "      <th>quality</th>\n",
       "    </tr>\n",
       "  </thead>\n",
       "  <tbody>\n",
       "    <tr>\n",
       "      <th>13</th>\n",
       "      <td>7.8</td>\n",
       "      <td>0.610</td>\n",
       "      <td>0.29</td>\n",
       "      <td>1.6</td>\n",
       "      <td>0.114</td>\n",
       "      <td>9.0</td>\n",
       "      <td>29.0</td>\n",
       "      <td>0.99740</td>\n",
       "      <td>3.26</td>\n",
       "      <td>1.56</td>\n",
       "      <td>9.10</td>\n",
       "      <td>5</td>\n",
       "    </tr>\n",
       "    <tr>\n",
       "      <th>14</th>\n",
       "      <td>8.9</td>\n",
       "      <td>0.620</td>\n",
       "      <td>0.18</td>\n",
       "      <td>3.8</td>\n",
       "      <td>0.176</td>\n",
       "      <td>52.0</td>\n",
       "      <td>145.0</td>\n",
       "      <td>0.99860</td>\n",
       "      <td>3.16</td>\n",
       "      <td>0.88</td>\n",
       "      <td>9.20</td>\n",
       "      <td>5</td>\n",
       "    </tr>\n",
       "    <tr>\n",
       "      <th>15</th>\n",
       "      <td>8.9</td>\n",
       "      <td>0.620</td>\n",
       "      <td>0.19</td>\n",
       "      <td>3.9</td>\n",
       "      <td>0.170</td>\n",
       "      <td>51.0</td>\n",
       "      <td>148.0</td>\n",
       "      <td>0.99860</td>\n",
       "      <td>3.17</td>\n",
       "      <td>0.93</td>\n",
       "      <td>9.20</td>\n",
       "      <td>5</td>\n",
       "    </tr>\n",
       "    <tr>\n",
       "      <th>17</th>\n",
       "      <td>8.1</td>\n",
       "      <td>0.560</td>\n",
       "      <td>0.28</td>\n",
       "      <td>1.7</td>\n",
       "      <td>0.368</td>\n",
       "      <td>16.0</td>\n",
       "      <td>56.0</td>\n",
       "      <td>0.99680</td>\n",
       "      <td>3.11</td>\n",
       "      <td>1.28</td>\n",
       "      <td>9.30</td>\n",
       "      <td>5</td>\n",
       "    </tr>\n",
       "    <tr>\n",
       "      <th>19</th>\n",
       "      <td>7.9</td>\n",
       "      <td>0.320</td>\n",
       "      <td>0.51</td>\n",
       "      <td>1.8</td>\n",
       "      <td>0.341</td>\n",
       "      <td>17.0</td>\n",
       "      <td>56.0</td>\n",
       "      <td>0.99690</td>\n",
       "      <td>3.04</td>\n",
       "      <td>1.08</td>\n",
       "      <td>9.20</td>\n",
       "      <td>6</td>\n",
       "    </tr>\n",
       "    <tr>\n",
       "      <th>...</th>\n",
       "      <td>...</td>\n",
       "      <td>...</td>\n",
       "      <td>...</td>\n",
       "      <td>...</td>\n",
       "      <td>...</td>\n",
       "      <td>...</td>\n",
       "      <td>...</td>\n",
       "      <td>...</td>\n",
       "      <td>...</td>\n",
       "      <td>...</td>\n",
       "      <td>...</td>\n",
       "      <td>...</td>\n",
       "    </tr>\n",
       "    <tr>\n",
       "      <th>1505</th>\n",
       "      <td>6.7</td>\n",
       "      <td>0.760</td>\n",
       "      <td>0.02</td>\n",
       "      <td>1.8</td>\n",
       "      <td>0.078</td>\n",
       "      <td>6.0</td>\n",
       "      <td>12.0</td>\n",
       "      <td>0.99600</td>\n",
       "      <td>3.55</td>\n",
       "      <td>0.63</td>\n",
       "      <td>9.95</td>\n",
       "      <td>3</td>\n",
       "    </tr>\n",
       "    <tr>\n",
       "      <th>1558</th>\n",
       "      <td>6.9</td>\n",
       "      <td>0.630</td>\n",
       "      <td>0.33</td>\n",
       "      <td>6.7</td>\n",
       "      <td>0.235</td>\n",
       "      <td>66.0</td>\n",
       "      <td>115.0</td>\n",
       "      <td>0.99787</td>\n",
       "      <td>3.22</td>\n",
       "      <td>0.56</td>\n",
       "      <td>9.50</td>\n",
       "      <td>5</td>\n",
       "    </tr>\n",
       "    <tr>\n",
       "      <th>1570</th>\n",
       "      <td>6.4</td>\n",
       "      <td>0.360</td>\n",
       "      <td>0.53</td>\n",
       "      <td>2.2</td>\n",
       "      <td>0.230</td>\n",
       "      <td>19.0</td>\n",
       "      <td>35.0</td>\n",
       "      <td>0.99340</td>\n",
       "      <td>3.37</td>\n",
       "      <td>0.93</td>\n",
       "      <td>12.40</td>\n",
       "      <td>6</td>\n",
       "    </tr>\n",
       "    <tr>\n",
       "      <th>1574</th>\n",
       "      <td>5.6</td>\n",
       "      <td>0.310</td>\n",
       "      <td>0.78</td>\n",
       "      <td>13.9</td>\n",
       "      <td>0.074</td>\n",
       "      <td>23.0</td>\n",
       "      <td>92.0</td>\n",
       "      <td>0.99677</td>\n",
       "      <td>3.39</td>\n",
       "      <td>0.48</td>\n",
       "      <td>10.50</td>\n",
       "      <td>6</td>\n",
       "    </tr>\n",
       "    <tr>\n",
       "      <th>1589</th>\n",
       "      <td>6.6</td>\n",
       "      <td>0.725</td>\n",
       "      <td>0.20</td>\n",
       "      <td>7.8</td>\n",
       "      <td>0.073</td>\n",
       "      <td>29.0</td>\n",
       "      <td>79.0</td>\n",
       "      <td>0.99770</td>\n",
       "      <td>3.29</td>\n",
       "      <td>0.54</td>\n",
       "      <td>9.20</td>\n",
       "      <td>5</td>\n",
       "    </tr>\n",
       "  </tbody>\n",
       "</table>\n",
       "<p>148 rows × 12 columns</p>\n",
       "</div>"
      ],
      "text/plain": [
       "      fixed acidity  volatile acidity  citric acid  residual sugar  chlorides  \\\n",
       "13              7.8             0.610         0.29             1.6      0.114   \n",
       "14              8.9             0.620         0.18             3.8      0.176   \n",
       "15              8.9             0.620         0.19             3.9      0.170   \n",
       "17              8.1             0.560         0.28             1.7      0.368   \n",
       "19              7.9             0.320         0.51             1.8      0.341   \n",
       "...             ...               ...          ...             ...        ...   \n",
       "1505            6.7             0.760         0.02             1.8      0.078   \n",
       "1558            6.9             0.630         0.33             6.7      0.235   \n",
       "1570            6.4             0.360         0.53             2.2      0.230   \n",
       "1574            5.6             0.310         0.78            13.9      0.074   \n",
       "1589            6.6             0.725         0.20             7.8      0.073   \n",
       "\n",
       "      free sulfur dioxide  total sulfur dioxide  density    pH  sulphates  \\\n",
       "13                    9.0                  29.0  0.99740  3.26       1.56   \n",
       "14                   52.0                 145.0  0.99860  3.16       0.88   \n",
       "15                   51.0                 148.0  0.99860  3.17       0.93   \n",
       "17                   16.0                  56.0  0.99680  3.11       1.28   \n",
       "19                   17.0                  56.0  0.99690  3.04       1.08   \n",
       "...                   ...                   ...      ...   ...        ...   \n",
       "1505                  6.0                  12.0  0.99600  3.55       0.63   \n",
       "1558                 66.0                 115.0  0.99787  3.22       0.56   \n",
       "1570                 19.0                  35.0  0.99340  3.37       0.93   \n",
       "1574                 23.0                  92.0  0.99677  3.39       0.48   \n",
       "1589                 29.0                  79.0  0.99770  3.29       0.54   \n",
       "\n",
       "      alcohol  quality  \n",
       "13       9.10        5  \n",
       "14       9.20        5  \n",
       "15       9.20        5  \n",
       "17       9.30        5  \n",
       "19       9.20        6  \n",
       "...       ...      ...  \n",
       "1505     9.95        3  \n",
       "1558     9.50        5  \n",
       "1570    12.40        6  \n",
       "1574    10.50        6  \n",
       "1589     9.20        5  \n",
       "\n",
       "[148 rows x 12 columns]"
      ]
     },
     "execution_count": 16,
     "metadata": {},
     "output_type": "execute_result"
    }
   ],
   "source": [
    "outliers = dataset[(np.abs((dataset - dataset.mean()) / dataset.std()) > 3).any(axis=1)]\n",
    "outliers"
   ]
  },
  {
   "cell_type": "code",
   "execution_count": 17,
   "metadata": {},
   "outputs": [
    {
     "data": {
      "text/plain": [
       "quality                 1.000000\n",
       "alcohol                 0.476166\n",
       "sulphates               0.251397\n",
       "citric acid             0.226373\n",
       "fixed acidity           0.124052\n",
       "residual sugar          0.013732\n",
       "free sulfur dioxide    -0.050656\n",
       "pH                     -0.057731\n",
       "chlorides              -0.128907\n",
       "density                -0.174919\n",
       "total sulfur dioxide   -0.185100\n",
       "volatile acidity       -0.390558\n",
       "Name: quality, dtype: float64"
      ]
     },
     "execution_count": 17,
     "metadata": {},
     "output_type": "execute_result"
    }
   ],
   "source": [
    "correlation_matrix = dataset.corr()\n",
    "correlation_matrix['quality'].sort_values(ascending=False)"
   ]
  },
  {
   "cell_type": "code",
   "execution_count": 18,
   "metadata": {},
   "outputs": [
    {
     "data": {
      "text/plain": [
       "(148, 240)"
      ]
     },
     "execution_count": 18,
     "metadata": {},
     "output_type": "execute_result"
    }
   ],
   "source": [
    "outliers = dataset[(np.abs((dataset - dataset.mean()) / dataset.std()) > 3).any(axis=1)]\n",
    "\n",
    "duplicates = dataset.duplicated().sum()\n",
    "\n",
    "outliers_count = len(outliers)\n",
    "outliers_count, duplicates\n"
   ]
  },
  {
   "cell_type": "code",
   "execution_count": 19,
   "metadata": {},
   "outputs": [
    {
     "data": {
      "text/plain": [
       "(   fixed acidity  volatile acidity  citric acid  residual sugar  chlorides  \\\n",
       " 0      -0.528360          0.961877    -1.391472       -0.453218  -0.243707   \n",
       " 1      -0.298547          1.967442    -1.391472        0.043416   0.223875   \n",
       " 2      -0.298547          1.297065    -1.186070       -0.169427   0.096353   \n",
       " 3       1.654856         -1.384443     1.484154       -0.453218  -0.264960   \n",
       " 4      -0.528360          0.961877    -1.391472       -0.453218  -0.243707   \n",
       " \n",
       "    free sulfur dioxide  total sulfur dioxide   density        pH  sulphates  \\\n",
       " 0            -0.466193             -0.379133  0.558274  1.288643  -0.579207   \n",
       " 1             0.872638              0.624363  0.028261 -0.719933   0.128950   \n",
       " 2            -0.083669              0.229047  0.134264 -0.331177  -0.048089   \n",
       " 3             0.107592              0.411500  0.664277 -0.979104  -0.461180   \n",
       " 4            -0.466193             -0.379133  0.558274  1.288643  -0.579207   \n",
       " \n",
       "     alcohol  quality  \n",
       " 0 -0.960246        5  \n",
       " 1 -0.584777        5  \n",
       " 2 -0.584777        5  \n",
       " 3 -0.584777        6  \n",
       " 4 -0.960246        5  ,\n",
       "    fixed acidity  volatile acidity  citric acid  residual sugar  chlorides  \\\n",
       " 0            7.4              0.70         0.00             1.9      0.076   \n",
       " 1            7.8              0.88         0.00             2.6      0.098   \n",
       " 2            7.8              0.76         0.04             2.3      0.092   \n",
       " 3           11.2              0.28         0.56             1.9      0.075   \n",
       " 4            7.4              0.70         0.00             1.9      0.076   \n",
       " \n",
       "    free sulfur dioxide  total sulfur dioxide  density    pH  sulphates  \\\n",
       " 0                 11.0                  34.0   0.9978  3.51       0.56   \n",
       " 1                 25.0                  67.0   0.9968  3.20       0.68   \n",
       " 2                 15.0                  54.0   0.9970  3.26       0.65   \n",
       " 3                 17.0                  60.0   0.9980  3.16       0.58   \n",
       " 4                 11.0                  34.0   0.9978  3.51       0.56   \n",
       " \n",
       "    alcohol  quality  \n",
       " 0      9.4        5  \n",
       " 1      9.8        5  \n",
       " 2      9.8        5  \n",
       " 3      9.8        6  \n",
       " 4      9.4        5  )"
      ]
     },
     "execution_count": 19,
     "metadata": {},
     "output_type": "execute_result"
    }
   ],
   "source": [
    "from sklearn.preprocessing import StandardScaler\n",
    "\n",
    "scaler = StandardScaler()\n",
    "scaled_features = scaler.fit_transform(dataset.drop('quality', axis=1))\n",
    "\n",
    "scaled_dataset = pd.DataFrame(scaled_features, columns=dataset.columns[:-1])\n",
    "scaled_dataset['quality'] = dataset['quality']\n",
    "\n",
    "unscaled_dataset = dataset.copy()\n",
    "\n",
    "scaled_dataset.head(), unscaled_dataset.head()"
   ]
  },
  {
   "cell_type": "code",
   "execution_count": 20,
   "metadata": {},
   "outputs": [
    {
     "data": {
      "text/plain": [
       "(959, 320, 320)"
      ]
     },
     "execution_count": 20,
     "metadata": {},
     "output_type": "execute_result"
    }
   ],
   "source": [
    "from sklearn.model_selection import train_test_split\n",
    "\n",
    "X = scaled_dataset.drop('quality', axis=1)\n",
    "y = scaled_dataset['quality']\n",
    "\n",
    "X_train, X_temp, y_train, y_temp = train_test_split(X, y, test_size=0.4, random_state=42)\n",
    "X_val, X_test, y_val, y_test = train_test_split(X_temp, y_temp, test_size=0.5, random_state=42)\n",
    "\n",
    "len(X_train), len(X_val), len(X_test)\n"
   ]
  },
  {
   "cell_type": "code",
   "execution_count": 21,
   "metadata": {},
   "outputs": [
    {
     "data": {
      "text/plain": [
       "(0.49406662960072334, 0.3922958416597431, 0.3383226402800532)"
      ]
     },
     "execution_count": 21,
     "metadata": {},
     "output_type": "execute_result"
    }
   ],
   "source": [
    "from sklearn.linear_model import LinearRegression\n",
    "from sklearn.metrics import mean_absolute_error, mean_squared_error, r2_score\n",
    "\n",
    "model = LinearRegression()\n",
    "model.fit(X_train, y_train)\n",
    "\n",
    "y_val_pred = model.predict(X_val)\n",
    "\n",
    "mae = mean_absolute_error(y_val, y_val_pred)\n",
    "mse = mean_squared_error(y_val, y_val_pred)\n",
    "r2 = r2_score(y_val, y_val_pred)\n",
    "\n",
    "mae, mse, r2"
   ]
  },
  {
   "cell_type": "code",
   "execution_count": 22,
   "metadata": {},
   "outputs": [
    {
     "data": {
      "text/plain": [
       "0.584375"
      ]
     },
     "execution_count": 22,
     "metadata": {},
     "output_type": "execute_result"
    }
   ],
   "source": [
    "tolerance = 0.5\n",
    "accuracy = (abs(y_val - y_val_pred) <= tolerance).mean()\n",
    "accuracy"
   ]
  },
  {
   "cell_type": "code",
   "execution_count": 23,
   "metadata": {},
   "outputs": [
    {
     "data": {
      "text/plain": [
       "(0.41265625000000006, 0.3028653125, 0.48916328177760215)"
      ]
     },
     "execution_count": 23,
     "metadata": {},
     "output_type": "execute_result"
    }
   ],
   "source": [
    "from sklearn.ensemble import RandomForestRegressor\n",
    "\n",
    "rf_model = RandomForestRegressor(random_state=42)\n",
    "rf_model.fit(X_train, y_train)\n",
    "\n",
    "y_val_pred_rf = rf_model.predict(X_val)\n",
    "\n",
    "mae_rf = mean_absolute_error(y_val, y_val_pred_rf)\n",
    "mse_rf = mean_squared_error(y_val, y_val_pred_rf)\n",
    "r2_rf = r2_score(y_val, y_val_pred_rf)\n",
    "\n",
    "mae_rf, mse_rf, r2_rf"
   ]
  },
  {
   "cell_type": "code",
   "execution_count": 24,
   "metadata": {},
   "outputs": [
    {
     "name": "stdout",
     "output_type": "stream",
     "text": [
      "Fitting 3 folds for each of 108 candidates, totalling 324 fits\n"
     ]
    },
    {
     "data": {
      "text/plain": [
       "{'max_depth': None,\n",
       " 'min_samples_leaf': 2,\n",
       " 'min_samples_split': 2,\n",
       " 'n_estimators': 100}"
      ]
     },
     "execution_count": 24,
     "metadata": {},
     "output_type": "execute_result"
    }
   ],
   "source": [
    "from sklearn.model_selection import GridSearchCV\n",
    "from sklearn.ensemble import RandomForestRegressor\n",
    "\n",
    "param_grid = {\n",
    "    'n_estimators': [100, 200, 300],\n",
    "    'max_depth': [None, 10, 20, 30],\n",
    "    'min_samples_split': [2, 5, 10],\n",
    "    'min_samples_leaf': [1, 2, 4]\n",
    "}\n",
    "\n",
    "grid_search = GridSearchCV(\n",
    "    estimator=RandomForestRegressor(random_state=42),\n",
    "    param_grid=param_grid,\n",
    "    scoring='neg_mean_squared_error',\n",
    "    cv=3,\n",
    "    verbose=1,\n",
    "    n_jobs=-1\n",
    ")\n",
    "\n",
    "grid_search.fit(X_train, y_train)\n",
    "best_params = grid_search.best_params_\n",
    "best_params"
   ]
  },
  {
   "cell_type": "code",
   "execution_count": 25,
   "metadata": {},
   "outputs": [
    {
     "data": {
      "text/plain": [
       "(0.42428437500000005, 0.31183402616252526, 0.474035936172315)"
      ]
     },
     "execution_count": 25,
     "metadata": {},
     "output_type": "execute_result"
    }
   ],
   "source": [
    "rf_model_optimized = RandomForestRegressor(\n",
    "    max_depth=None,\n",
    "    min_samples_leaf=2,\n",
    "    min_samples_split=2,\n",
    "    n_estimators=100,\n",
    "    random_state=42\n",
    ")\n",
    "\n",
    "rf_model_optimized.fit(X_train, y_train)\n",
    "y_val_pred_rf_optimized = rf_model_optimized.predict(X_val)\n",
    "\n",
    "mae_rf_optimized = mean_absolute_error(y_val, y_val_pred_rf_optimized)\n",
    "mse_rf_optimized = mean_squared_error(y_val, y_val_pred_rf_optimized)\n",
    "r2_rf_optimized = r2_score(y_val, y_val_pred_rf_optimized)\n",
    "\n",
    "mae_rf_optimized, mse_rf_optimized, r2_rf_optimized\n"
   ]
  },
  {
   "cell_type": "code",
   "execution_count": 26,
   "metadata": {},
   "outputs": [
    {
     "data": {
      "text/plain": [
       "0.66875"
      ]
     },
     "execution_count": 26,
     "metadata": {},
     "output_type": "execute_result"
    }
   ],
   "source": [
    "tolerance = 0.5\n",
    "accuracy_rf_optimized = (abs(y_val - y_val_pred_rf_optimized) <= tolerance).mean()\n",
    "accuracy_rf_optimized\n"
   ]
  },
  {
   "cell_type": "code",
   "execution_count": 27,
   "metadata": {},
   "outputs": [
    {
     "name": "stdout",
     "output_type": "stream",
     "text": [
      "Fitting 3 folds for each of 108 candidates, totalling 324 fits\n"
     ]
    },
    {
     "data": {
      "text/plain": [
       "{'colsample_bytree': 0.8,\n",
       " 'learning_rate': 0.01,\n",
       " 'max_depth': 10,\n",
       " 'n_estimators': 300,\n",
       " 'subsample': 0.8}"
      ]
     },
     "execution_count": 27,
     "metadata": {},
     "output_type": "execute_result"
    }
   ],
   "source": [
    "from sklearn.model_selection import GridSearchCV\n",
    "from xgboost import XGBRegressor\n",
    "\n",
    "param_grid_xgb = {\n",
    "    'n_estimators': [100, 200, 300],\n",
    "    'learning_rate': [0.01, 0.1, 0.2],\n",
    "    'max_depth': [3, 6, 10],\n",
    "    'subsample': [0.8, 1.0],\n",
    "    'colsample_bytree': [0.8, 1.0]\n",
    "}\n",
    "\n",
    "xgb_grid_search = GridSearchCV(\n",
    "    estimator=XGBRegressor(random_state=42),\n",
    "    param_grid=param_grid_xgb,\n",
    "    scoring='neg_mean_squared_error',\n",
    "    cv=3,\n",
    "    verbose=1,\n",
    "    n_jobs=-1\n",
    ")\n",
    "\n",
    "xgb_grid_search.fit(X_train, y_train)\n",
    "best_params_xgb = xgb_grid_search.best_params_\n",
    "best_params_xgb\n"
   ]
  },
  {
   "cell_type": "code",
   "execution_count": 28,
   "metadata": {},
   "outputs": [
    {
     "data": {
      "text/plain": [
       "(0.41658047437667844, 0.3051340305822322, 0.4853366814643051)"
      ]
     },
     "execution_count": 28,
     "metadata": {},
     "output_type": "execute_result"
    }
   ],
   "source": [
    "xgb_model_optimized = XGBRegressor(\n",
    "    colsample_bytree=0.8,\n",
    "    learning_rate=0.01,\n",
    "    max_depth=10,\n",
    "    n_estimators=300,\n",
    "    subsample=0.8,\n",
    "    random_state=42\n",
    ")\n",
    "\n",
    "xgb_model_optimized.fit(X_train, y_train)\n",
    "y_val_pred_xgb_optimized = xgb_model_optimized.predict(X_val)\n",
    "\n",
    "mae_xgb_optimized = mean_absolute_error(y_val, y_val_pred_xgb_optimized)\n",
    "mse_xgb_optimized = mean_squared_error(y_val, y_val_pred_xgb_optimized)\n",
    "r2_xgb_optimized = r2_score(y_val, y_val_pred_xgb_optimized)\n",
    "\n",
    "mae_xgb_optimized, mse_xgb_optimized, r2_xgb_optimized\n"
   ]
  },
  {
   "cell_type": "code",
   "execution_count": 29,
   "metadata": {},
   "outputs": [
    {
     "data": {
      "text/plain": [
       "0.690625"
      ]
     },
     "execution_count": 29,
     "metadata": {},
     "output_type": "execute_result"
    }
   ],
   "source": [
    "tolerance = 0.5\n",
    "accuracy_xgb_optimized = (abs(y_val - y_val_pred_xgb_optimized) <= tolerance).mean()\n",
    "accuracy_xgb_optimized"
   ]
  },
  {
   "cell_type": "code",
   "execution_count": 30,
   "metadata": {},
   "outputs": [
    {
     "name": "stdout",
     "output_type": "stream",
     "text": [
      "Fitting 3 folds for each of 2187 candidates, totalling 6561 fits\n"
     ]
    },
    {
     "data": {
      "text/plain": [
       "{'colsample_bytree': 0.9,\n",
       " 'learning_rate': 0.02,\n",
       " 'max_depth': 8,\n",
       " 'n_estimators': 300,\n",
       " 'reg_alpha': 0,\n",
       " 'reg_lambda': 1.5,\n",
       " 'subsample': 0.7}"
      ]
     },
     "execution_count": 30,
     "metadata": {},
     "output_type": "execute_result"
    }
   ],
   "source": [
    "param_grid_xgb_fine = {\n",
    "    'n_estimators': [300, 400, 500],\n",
    "    'learning_rate': [0.005, 0.01, 0.02],\n",
    "    'max_depth': [8, 10, 12],\n",
    "    'subsample': [0.7, 0.8, 0.9],\n",
    "    'colsample_bytree': [0.7, 0.8, 0.9],\n",
    "    'reg_alpha': [0, 0.1, 0.5],\n",
    "    'reg_lambda': [1, 1.5, 2]\n",
    "}\n",
    "\n",
    "xgb_grid_search_fine = GridSearchCV(\n",
    "    estimator=XGBRegressor(random_state=42),\n",
    "    param_grid=param_grid_xgb_fine,\n",
    "    scoring='neg_mean_squared_error',\n",
    "    cv=3,\n",
    "    verbose=1,\n",
    "    n_jobs=-1\n",
    ")\n",
    "\n",
    "xgb_grid_search_fine.fit(X_train, y_train)\n",
    "best_params_xgb_fine = xgb_grid_search_fine.best_params_\n",
    "best_params_xgb_fine\n"
   ]
  },
  {
   "cell_type": "code",
   "execution_count": 31,
   "metadata": {},
   "outputs": [
    {
     "data": {
      "text/plain": [
       "(0.40771944373846053, 0.30567300769881667, 0.4844275998030204)"
      ]
     },
     "execution_count": 31,
     "metadata": {},
     "output_type": "execute_result"
    }
   ],
   "source": [
    "xgb_model_fine_tuned = XGBRegressor(\n",
    "    colsample_bytree=0.9,\n",
    "    learning_rate=0.02,\n",
    "    max_depth=8,\n",
    "    n_estimators=300,\n",
    "    reg_alpha=0,\n",
    "    reg_lambda=1.5,\n",
    "    subsample=0.7,\n",
    "    random_state=42\n",
    ")\n",
    "\n",
    "xgb_model_fine_tuned.fit(X_train, y_train)\n",
    "y_val_pred_xgb_fine_tuned = xgb_model_fine_tuned.predict(X_val)\n",
    "\n",
    "mae_xgb_fine_tuned = mean_absolute_error(y_val, y_val_pred_xgb_fine_tuned)\n",
    "mse_xgb_fine_tuned = mean_squared_error(y_val, y_val_pred_xgb_fine_tuned)\n",
    "r2_xgb_fine_tuned = r2_score(y_val, y_val_pred_xgb_fine_tuned)\n",
    "\n",
    "mae_xgb_fine_tuned, mse_xgb_fine_tuned, r2_xgb_fine_tuned\n"
   ]
  },
  {
   "cell_type": "code",
   "execution_count": 32,
   "metadata": {},
   "outputs": [
    {
     "data": {
      "text/plain": [
       "(0.41743675500290667, 0.30463568562445703, 0.4861772296956993)"
      ]
     },
     "execution_count": 32,
     "metadata": {},
     "output_type": "execute_result"
    }
   ],
   "source": [
    "from sklearn.ensemble import StackingRegressor\n",
    "from sklearn.linear_model import LinearRegression\n",
    "\n",
    "base_models = [\n",
    "    ('random_forest', RandomForestRegressor(\n",
    "        max_depth=None, min_samples_leaf=2, min_samples_split=2, n_estimators=100, random_state=42\n",
    "    )),\n",
    "    ('xgboost', XGBRegressor(\n",
    "        colsample_bytree=0.9, learning_rate=0.02, max_depth=8, n_estimators=300, reg_alpha=0, reg_lambda=1.5, subsample=0.7, random_state=42\n",
    "    ))\n",
    "]\n",
    "\n",
    "stacking_model = StackingRegressor(\n",
    "    estimators=base_models,\n",
    "    final_estimator=LinearRegression(),\n",
    "    n_jobs=-1\n",
    ")\n",
    "\n",
    "stacking_model.fit(X_train, y_train)\n",
    "y_val_pred_stacking = stacking_model.predict(X_val)\n",
    "\n",
    "mae_stacking = mean_absolute_error(y_val, y_val_pred_stacking)\n",
    "mse_stacking = mean_squared_error(y_val, y_val_pred_stacking)\n",
    "r2_stacking = r2_score(y_val, y_val_pred_stacking)\n",
    "\n",
    "mae_stacking, mse_stacking, r2_stacking\n"
   ]
  },
  {
   "cell_type": "code",
   "execution_count": 33,
   "metadata": {},
   "outputs": [
    {
     "name": "stdout",
     "output_type": "stream",
     "text": [
      "Fitting 3 folds for each of 12 candidates, totalling 36 fits\n"
     ]
    },
    {
     "data": {
      "text/plain": [
       "{'final_estimator__alpha': 10.0, 'final_estimator__solver': 'auto'}"
      ]
     },
     "execution_count": 33,
     "metadata": {},
     "output_type": "execute_result"
    }
   ],
   "source": [
    "from sklearn.linear_model import Ridge\n",
    "from sklearn.model_selection import GridSearchCV\n",
    "from sklearn.ensemble import StackingRegressor\n",
    "\n",
    "base_models = [\n",
    "    ('random_forest', RandomForestRegressor(\n",
    "        max_depth=None, min_samples_leaf=2, min_samples_split=2, n_estimators=100, random_state=42\n",
    "    )),\n",
    "    ('xgboost', XGBRegressor(\n",
    "        colsample_bytree=0.9, learning_rate=0.02, max_depth=8, n_estimators=300, reg_alpha=0, reg_lambda=1.5, subsample=0.7, random_state=42\n",
    "    ))\n",
    "]\n",
    "\n",
    "stacking_model = StackingRegressor(\n",
    "    estimators=base_models,\n",
    "    final_estimator=Ridge(),\n",
    "    n_jobs=-1\n",
    ")\n",
    "\n",
    "param_grid_meta = {\n",
    "    'final_estimator__alpha': [0.1, 1.0, 10.0],\n",
    "    'final_estimator__solver': ['auto', 'svd', 'cholesky', 'lsqr']\n",
    "}\n",
    "\n",
    "grid_search_meta = GridSearchCV(\n",
    "    estimator=stacking_model,\n",
    "    param_grid=param_grid_meta,\n",
    "    scoring='neg_mean_squared_error',\n",
    "    cv=3,\n",
    "    verbose=1,\n",
    "    n_jobs=-1\n",
    ")\n",
    "\n",
    "grid_search_meta.fit(X_train, y_train)\n",
    "best_params_meta = grid_search_meta.best_params_\n",
    "best_params_meta\n"
   ]
  },
  {
   "cell_type": "code",
   "execution_count": 34,
   "metadata": {},
   "outputs": [
    {
     "data": {
      "text/plain": [
       "(0.4202781190698513, 0.305672205308001, 0.4844289531791718)"
      ]
     },
     "execution_count": 34,
     "metadata": {},
     "output_type": "execute_result"
    }
   ],
   "source": [
    "stacking_model_optimized = StackingRegressor(\n",
    "    estimators=base_models,\n",
    "    final_estimator=Ridge(alpha=10.0, solver='auto'),\n",
    "    n_jobs=-1\n",
    ")\n",
    "\n",
    "stacking_model_optimized.fit(X_train, y_train)\n",
    "y_val_pred_stacking_optimized = stacking_model_optimized.predict(X_val)\n",
    "\n",
    "mae_stacking_optimized = mean_absolute_error(y_val, y_val_pred_stacking_optimized)\n",
    "mse_stacking_optimized = mean_squared_error(y_val, y_val_pred_stacking_optimized)\n",
    "r2_stacking_optimized = r2_score(y_val, y_val_pred_stacking_optimized)\n",
    "\n",
    "mae_stacking_optimized, mse_stacking_optimized, r2_stacking_optimized"
   ]
  },
  {
   "cell_type": "code",
   "execution_count": 35,
   "metadata": {},
   "outputs": [
    {
     "data": {
      "text/plain": [
       "(0.3961372738091586, 0.29006083583327325, 0.5107603302642489)"
      ]
     },
     "execution_count": 35,
     "metadata": {},
     "output_type": "execute_result"
    }
   ],
   "source": [
    "from sklearn.neighbors import KNeighborsRegressor\n",
    "from sklearn.ensemble import ExtraTreesRegressor\n",
    "\n",
    "base_models_updated = [\n",
    "    ('random_forest', RandomForestRegressor(\n",
    "        max_depth=None, min_samples_leaf=2, min_samples_split=2, n_estimators=100, random_state=42\n",
    "    )),\n",
    "    ('xgboost', XGBRegressor(\n",
    "        colsample_bytree=0.9, learning_rate=0.02, max_depth=8, n_estimators=300, reg_alpha=0, reg_lambda=1.5, subsample=0.7, random_state=42\n",
    "    )),\n",
    "    ('extra_trees', ExtraTreesRegressor(n_estimators=100, random_state=42)),\n",
    "    ('knn', KNeighborsRegressor(n_neighbors=5))\n",
    "]\n",
    "\n",
    "stacking_model_updated = StackingRegressor(\n",
    "    estimators=base_models_updated,\n",
    "    final_estimator=Ridge(alpha=10.0, solver='auto'),\n",
    "    n_jobs=-1\n",
    ")\n",
    "\n",
    "stacking_model_updated.fit(X_train, y_train)\n",
    "y_val_pred_stacking_updated = stacking_model_updated.predict(X_val)\n",
    "\n",
    "mae_stacking_updated = mean_absolute_error(y_val, y_val_pred_stacking_updated)\n",
    "mse_stacking_updated = mean_squared_error(y_val, y_val_pred_stacking_updated)\n",
    "r2_stacking_updated = r2_score(y_val, y_val_pred_stacking_updated)\n",
    "\n",
    "mae_stacking_updated, mse_stacking_updated, r2_stacking_updated\n"
   ]
  },
  {
   "cell_type": "code",
   "execution_count": 36,
   "metadata": {},
   "outputs": [
    {
     "name": "stdout",
     "output_type": "stream",
     "text": [
      "Fitting 3 folds for each of 108 candidates, totalling 324 fits\n"
     ]
    },
    {
     "data": {
      "text/plain": [
       "{'max_depth': 20,\n",
       " 'min_samples_leaf': 1,\n",
       " 'min_samples_split': 2,\n",
       " 'n_estimators': 100}"
      ]
     },
     "execution_count": 36,
     "metadata": {},
     "output_type": "execute_result"
    }
   ],
   "source": [
    "from sklearn.ensemble import ExtraTreesRegressor\n",
    "from sklearn.model_selection import GridSearchCV\n",
    "\n",
    "param_grid_extra_trees = {\n",
    "    'n_estimators': [100, 200, 300],\n",
    "    'max_depth': [None, 10, 20, 30],\n",
    "    'min_samples_split': [2, 5, 10],\n",
    "    'min_samples_leaf': [1, 2, 4]\n",
    "}\n",
    "\n",
    "grid_search_extra_trees = GridSearchCV(\n",
    "    estimator=ExtraTreesRegressor(random_state=42),\n",
    "    param_grid=param_grid_extra_trees,\n",
    "    scoring='neg_mean_squared_error',\n",
    "    cv=3,\n",
    "    verbose=1,\n",
    "    n_jobs=-1\n",
    ")\n",
    "\n",
    "grid_search_extra_trees.fit(X_train, y_train)\n",
    "best_params_extra_trees = grid_search_extra_trees.best_params_\n",
    "best_params_extra_trees\n"
   ]
  },
  {
   "cell_type": "code",
   "execution_count": 37,
   "metadata": {},
   "outputs": [
    {
     "name": "stdout",
     "output_type": "stream",
     "text": [
      "Fitting 3 folds for each of 16 candidates, totalling 48 fits\n"
     ]
    },
    {
     "data": {
      "text/plain": [
       "{'n_neighbors': 9, 'p': 1, 'weights': 'distance'}"
      ]
     },
     "execution_count": 37,
     "metadata": {},
     "output_type": "execute_result"
    }
   ],
   "source": [
    "from sklearn.neighbors import KNeighborsRegressor\n",
    "\n",
    "param_grid_knn = {\n",
    "    'n_neighbors': [3, 5, 7, 9],\n",
    "    'weights': ['uniform', 'distance'],\n",
    "    'p': [1, 2] \n",
    "}\n",
    "\n",
    "grid_search_knn = GridSearchCV(\n",
    "    estimator=KNeighborsRegressor(),\n",
    "    param_grid=param_grid_knn,\n",
    "    scoring='neg_mean_squared_error',\n",
    "    cv=3,\n",
    "    verbose=1,\n",
    "    n_jobs=-1\n",
    ")\n",
    "\n",
    "grid_search_knn.fit(X_train, y_train)\n",
    "best_params_knn = grid_search_knn.best_params_\n",
    "best_params_knn\n"
   ]
  },
  {
   "cell_type": "code",
   "execution_count": 38,
   "metadata": {},
   "outputs": [
    {
     "data": {
      "text/plain": [
       "(0.39435420486176354, 0.28846783845527135, 0.5134472063082509)"
      ]
     },
     "execution_count": 38,
     "metadata": {},
     "output_type": "execute_result"
    }
   ],
   "source": [
    "from sklearn.ensemble import ExtraTreesRegressor\n",
    "from sklearn.neighbors import KNeighborsRegressor\n",
    "from sklearn.ensemble import StackingRegressor\n",
    "from sklearn.linear_model import Ridge\n",
    "\n",
    "base_models_updated = [\n",
    "    ('random_forest', RandomForestRegressor(\n",
    "        max_depth=None, min_samples_leaf=2, min_samples_split=2, n_estimators=100, random_state=42\n",
    "    )),\n",
    "    ('xgboost', XGBRegressor(\n",
    "        colsample_bytree=0.9, learning_rate=0.02, max_depth=8, n_estimators=300, reg_alpha=0, reg_lambda=1.5, subsample=0.7, random_state=42\n",
    "    )),\n",
    "    ('extra_trees', ExtraTreesRegressor(\n",
    "        n_estimators=300, max_depth=None, min_samples_split=2, min_samples_leaf=1, random_state=42\n",
    "    )),\n",
    "    ('knn', KNeighborsRegressor(\n",
    "        n_neighbors=9, p=1, weights='distance'\n",
    "    ))\n",
    "]\n",
    "\n",
    "stacking_model_updated = StackingRegressor(\n",
    "    estimators=base_models_updated,\n",
    "    final_estimator=Ridge(alpha=10.0, solver='auto'),\n",
    "    n_jobs=-1\n",
    ")\n",
    "\n",
    "stacking_model_updated.fit(X_train, y_train)\n",
    "y_val_pred_stacking_updated = stacking_model_updated.predict(X_val)\n",
    "\n",
    "mae_stacking_updated = mean_absolute_error(y_val, y_val_pred_stacking_updated)\n",
    "mse_stacking_updated = mean_squared_error(y_val, y_val_pred_stacking_updated)\n",
    "r2_stacking_updated = r2_score(y_val, y_val_pred_stacking_updated)\n",
    "\n",
    "mae_stacking_updated, mse_stacking_updated, r2_stacking_updated\n"
   ]
  },
  {
   "cell_type": "code",
   "execution_count": 39,
   "metadata": {},
   "outputs": [
    {
     "data": {
      "text/plain": [
       "(0.45842162470522235, 0.398865523282976, 0.43570282420313977, 0.634375)"
      ]
     },
     "execution_count": 39,
     "metadata": {},
     "output_type": "execute_result"
    }
   ],
   "source": [
    "y_test_pred_stacking_updated = stacking_model_updated.predict(X_test)\n",
    "\n",
    "mae_stacking_test = mean_absolute_error(y_test, y_test_pred_stacking_updated)\n",
    "mse_stacking_test = mean_squared_error(y_test, y_test_pred_stacking_updated)\n",
    "r2_stacking_test = r2_score(y_test, y_test_pred_stacking_updated)\n",
    "\n",
    "tolerance = 0.5\n",
    "accuracy_stacking_test = (abs(y_test - y_test_pred_stacking_updated) <= tolerance).mean()\n",
    "\n",
    "mae_stacking_test, mse_stacking_test, r2_stacking_test, accuracy_stacking_test\n"
   ]
  }
 ],
 "metadata": {
  "kernelspec": {
   "display_name": "Python 3",
   "language": "python",
   "name": "python3"
  },
  "language_info": {
   "codemirror_mode": {
    "name": "ipython",
    "version": 3
   },
   "file_extension": ".py",
   "mimetype": "text/x-python",
   "name": "python",
   "nbconvert_exporter": "python",
   "pygments_lexer": "ipython3",
   "version": "3.11.9"
  }
 },
 "nbformat": 4,
 "nbformat_minor": 2
}
